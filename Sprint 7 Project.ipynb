{
 "cells": [
  {
   "cell_type": "markdown",
   "metadata": {},
   "source": [
    "# Sprint 7 Project: Megaline Machine Learning Analysis"
   ]
  },
  {
   "cell_type": "markdown",
   "metadata": {},
   "source": [
    "## Prompt: \n",
    "Mobile carrier Megaline has found out that many of their subscribers use legacy plans. They want to develop a model that would analyze subscribers' behavior and recommend one of Megaline's newer plans: Smart or Ultra. \n",
    "\n",
    "You have access to behavior data about subscribers who have already switched to the new plans (from the project for the Statistical Data Analysis course). For this classification task, you need to develop a model that will pick the right plan. Since you’ve already performed the data preprocessing step, you can move straight to creating the model.  \n",
    "\n",
    "Develop a model with the highest possible accuracy. In this project, the threshold for accuracy is 0.75. Check the accuracy using the test dataset.  "
   ]
  },
  {
   "cell_type": "markdown",
   "metadata": {},
   "source": [
    "## Introduction\n",
    "For this project, I will be working with dataset titled 'user_behavior' which contains 5 columns: calls (number of calls), minutes (total duration of the calls), messages (number of test messages), mb_used (internet traffic used in mb), and is_ultra (0 = customer has Smart plan, 1 = customer bas ultra plan). \n",
    "\n",
    "The goal of this project is to design a model that can predict which plan (Smart or Ultra) a customer should register for based on their usage of the features described above using the data in the user_bahvior dataset.\n",
    "\n",
    "First I will split the dataset into three (test, train, and valid). Train will be used to tune the model and I will compare the model scores to those of the valid set. Since this is a binary classification task, I will be tuning models using the Decision Tree Classifier, Random Forest Classifier, and Logistic Regression. After determining which model returns the highest, most effective valid score in comparison to the train score, I will test the model using the test data to see how well it performs. Lastly, I will perform a sanity check."
   ]
  },
  {
   "cell_type": "code",
   "execution_count": 1,
   "metadata": {},
   "outputs": [],
   "source": [
    "import pandas as pd\n",
    "from sklearn.model_selection import train_test_split\n",
    "from sklearn.metrics import accuracy_score\n",
    "from sklearn.tree import DecisionTreeClassifier\n",
    "from sklearn.ensemble import RandomForestClassifier\n",
    "from sklearn.linear_model import LogisticRegression"
   ]
  },
  {
   "cell_type": "markdown",
   "metadata": {},
   "source": [
    "uploading necessary libraries"
   ]
  },
  {
   "cell_type": "code",
   "execution_count": 2,
   "metadata": {},
   "outputs": [],
   "source": [
    "df = pd.read_csv('/datasets/users_behavior.csv')"
   ]
  },
  {
   "cell_type": "markdown",
   "metadata": {},
   "source": [
    "reading dataset"
   ]
  },
  {
   "cell_type": "code",
   "execution_count": 3,
   "metadata": {},
   "outputs": [
    {
     "name": "stdout",
     "output_type": "stream",
     "text": [
      "<class 'pandas.core.frame.DataFrame'>\n",
      "RangeIndex: 3214 entries, 0 to 3213\n",
      "Data columns (total 5 columns):\n",
      " #   Column    Non-Null Count  Dtype  \n",
      "---  ------    --------------  -----  \n",
      " 0   calls     3214 non-null   float64\n",
      " 1   minutes   3214 non-null   float64\n",
      " 2   messages  3214 non-null   float64\n",
      " 3   mb_used   3214 non-null   float64\n",
      " 4   is_ultra  3214 non-null   int64  \n",
      "dtypes: float64(4), int64(1)\n",
      "memory usage: 125.7 KB\n"
     ]
    }
   ],
   "source": [
    "df.info()"
   ]
  },
  {
   "cell_type": "markdown",
   "metadata": {},
   "source": [
    "since this data is from a previous sprint and has already been cleaned, I will jsut be calling info and head to take a look at the data, but no additional changes are necessary before analysis."
   ]
  },
  {
   "cell_type": "code",
   "execution_count": 4,
   "metadata": {
    "scrolled": true
   },
   "outputs": [
    {
     "data": {
      "text/html": [
       "<div>\n",
       "<style scoped>\n",
       "    .dataframe tbody tr th:only-of-type {\n",
       "        vertical-align: middle;\n",
       "    }\n",
       "\n",
       "    .dataframe tbody tr th {\n",
       "        vertical-align: top;\n",
       "    }\n",
       "\n",
       "    .dataframe thead th {\n",
       "        text-align: right;\n",
       "    }\n",
       "</style>\n",
       "<table border=\"1\" class=\"dataframe\">\n",
       "  <thead>\n",
       "    <tr style=\"text-align: right;\">\n",
       "      <th></th>\n",
       "      <th>calls</th>\n",
       "      <th>minutes</th>\n",
       "      <th>messages</th>\n",
       "      <th>mb_used</th>\n",
       "      <th>is_ultra</th>\n",
       "    </tr>\n",
       "  </thead>\n",
       "  <tbody>\n",
       "    <tr>\n",
       "      <th>0</th>\n",
       "      <td>40.0</td>\n",
       "      <td>311.90</td>\n",
       "      <td>83.0</td>\n",
       "      <td>19915.42</td>\n",
       "      <td>0</td>\n",
       "    </tr>\n",
       "    <tr>\n",
       "      <th>1</th>\n",
       "      <td>85.0</td>\n",
       "      <td>516.75</td>\n",
       "      <td>56.0</td>\n",
       "      <td>22696.96</td>\n",
       "      <td>0</td>\n",
       "    </tr>\n",
       "    <tr>\n",
       "      <th>2</th>\n",
       "      <td>77.0</td>\n",
       "      <td>467.66</td>\n",
       "      <td>86.0</td>\n",
       "      <td>21060.45</td>\n",
       "      <td>0</td>\n",
       "    </tr>\n",
       "    <tr>\n",
       "      <th>3</th>\n",
       "      <td>106.0</td>\n",
       "      <td>745.53</td>\n",
       "      <td>81.0</td>\n",
       "      <td>8437.39</td>\n",
       "      <td>1</td>\n",
       "    </tr>\n",
       "    <tr>\n",
       "      <th>4</th>\n",
       "      <td>66.0</td>\n",
       "      <td>418.74</td>\n",
       "      <td>1.0</td>\n",
       "      <td>14502.75</td>\n",
       "      <td>0</td>\n",
       "    </tr>\n",
       "  </tbody>\n",
       "</table>\n",
       "</div>"
      ],
      "text/plain": [
       "   calls  minutes  messages   mb_used  is_ultra\n",
       "0   40.0   311.90      83.0  19915.42         0\n",
       "1   85.0   516.75      56.0  22696.96         0\n",
       "2   77.0   467.66      86.0  21060.45         0\n",
       "3  106.0   745.53      81.0   8437.39         1\n",
       "4   66.0   418.74       1.0  14502.75         0"
      ]
     },
     "execution_count": 4,
     "metadata": {},
     "output_type": "execute_result"
    }
   ],
   "source": [
    "df.head()"
   ]
  },
  {
   "cell_type": "code",
   "execution_count": 5,
   "metadata": {},
   "outputs": [],
   "source": [
    "train_valid, test = train_test_split(df, test_size = .2, random_state=12345)\n",
    "train, valid = train_test_split(train_valid, test_size = .25, random_state=12345)"
   ]
  },
  {
   "cell_type": "markdown",
   "metadata": {},
   "source": [
    "splitting dataset into valid, test, and train. train will be used to tune the model."
   ]
  },
  {
   "cell_type": "code",
   "execution_count": 6,
   "metadata": {},
   "outputs": [],
   "source": [
    "features_train = train.drop(['is_ultra'], axis=1)"
   ]
  },
  {
   "cell_type": "code",
   "execution_count": 7,
   "metadata": {},
   "outputs": [],
   "source": [
    "target_train = train['is_ultra']"
   ]
  },
  {
   "cell_type": "code",
   "execution_count": 8,
   "metadata": {},
   "outputs": [],
   "source": [
    "features_valid = valid.drop(['is_ultra'], axis=1)"
   ]
  },
  {
   "cell_type": "code",
   "execution_count": 9,
   "metadata": {},
   "outputs": [],
   "source": [
    "target_valid = valid['is_ultra']"
   ]
  },
  {
   "cell_type": "code",
   "execution_count": 10,
   "metadata": {},
   "outputs": [],
   "source": [
    "features_test = test.drop(['is_ultra'], axis=1)"
   ]
  },
  {
   "cell_type": "code",
   "execution_count": 11,
   "metadata": {},
   "outputs": [],
   "source": [
    "target_test = test['is_ultra']"
   ]
  },
  {
   "cell_type": "code",
   "execution_count": 12,
   "metadata": {
    "scrolled": true
   },
   "outputs": [
    {
     "name": "stdout",
     "output_type": "stream",
     "text": [
      "(1928, 4)\n",
      "(643, 4)\n",
      "(643, 4)\n"
     ]
    }
   ],
   "source": [
    "print(features_train.shape)\n",
    "print(features_valid.shape)\n",
    "print(features_test.shape)"
   ]
  },
  {
   "cell_type": "markdown",
   "metadata": {},
   "source": [
    "created features and targets for each split of data, printed out shape to ensure necessary split was made."
   ]
  },
  {
   "cell_type": "markdown",
   "metadata": {},
   "source": [
    "## Tuning Models"
   ]
  },
  {
   "cell_type": "markdown",
   "metadata": {},
   "source": [
    "### Decision Tree"
   ]
  },
  {
   "cell_type": "code",
   "execution_count": 13,
   "metadata": {},
   "outputs": [
    {
     "name": "stdout",
     "output_type": "stream",
     "text": [
      "Decision Tree\n",
      "max_depth = 1\n",
      "Train: 0.758298755186722\n",
      "Valid: 0.7387247278382582\n",
      "max_depth = 2\n",
      "Train: 0.79201244813278\n",
      "Valid: 0.7573872472783826\n",
      "max_depth = 3\n",
      "Train: 0.8117219917012448\n",
      "Valid: 0.7651632970451011\n",
      "max_depth = 4\n",
      "Train: 0.8205394190871369\n",
      "Valid: 0.7636080870917574\n",
      "max_depth = 5\n",
      "Train: 0.8272821576763485\n",
      "Valid: 0.7589424572317263\n",
      "max_depth = 6\n",
      "Train: 0.8335062240663901\n",
      "Valid: 0.7573872472783826\n",
      "max_depth = 7\n",
      "Train: 0.8506224066390041\n",
      "Valid: 0.7744945567651633\n",
      "max_depth = 8\n",
      "Train: 0.8661825726141079\n",
      "Valid: 0.7667185069984448\n",
      "max_depth = 9\n",
      "Train: 0.875\n",
      "Valid: 0.7620528771384136\n",
      "max_depth = 10\n",
      "Train: 0.8910788381742739\n",
      "Valid: 0.7713841368584758\n",
      "max_depth = 11\n",
      "Train: 0.9024896265560166\n",
      "Valid: 0.7589424572317263\n",
      "max_depth = 12\n",
      "Train: 0.9154564315352697\n",
      "Valid: 0.7558320373250389\n",
      "max_depth = 13\n",
      "Train: 0.9242738589211619\n",
      "Valid: 0.749611197511664\n",
      "max_depth = 14\n",
      "Train: 0.9367219917012448\n",
      "Valid: 0.7573872472783826\n",
      "max_depth = 15\n",
      "Train: 0.9439834024896265\n",
      "Valid: 0.7527216174183515\n",
      "max_depth = 16\n",
      "Train: 0.9512448132780082\n",
      "Valid: 0.749611197511664\n",
      "max_depth = 17\n",
      "Train: 0.9574688796680498\n",
      "Valid: 0.7387247278382582\n",
      "max_depth = 18\n",
      "Train: 0.9642116182572614\n",
      "Valid: 0.7418351477449455\n",
      "max_depth = 19\n",
      "Train: 0.9704356846473029\n",
      "Valid: 0.7356143079315708\n"
     ]
    }
   ],
   "source": [
    "print('Decision Tree')\n",
    "for depth in range(1, 20):\n",
    "    model = DecisionTreeClassifier(random_state=12345, max_depth=depth)\n",
    "    model.fit(features_train, target_train)\n",
    "    print('max_depth =', depth)\n",
    "    print('Train:', model.score(features_train, target_train))\n",
    "    print('Valid:', model.score(features_valid, target_valid))"
   ]
  },
  {
   "cell_type": "markdown",
   "metadata": {},
   "source": [
    "### Random Forest"
   ]
  },
  {
   "cell_type": "code",
   "execution_count": 15,
   "metadata": {
    "scrolled": true
   },
   "outputs": [
    {
     "name": "stdout",
     "output_type": "stream",
     "text": [
      "Random Forest\n",
      "n_estimators = 10\n",
      "Train: 0.9797717842323651\n",
      "Valid: 0.7884914463452566\n",
      "n_estimators = 15\n",
      "Train: 0.991701244813278\n",
      "Valid: 0.7838258164852255\n",
      "n_estimators = 20\n",
      "Train: 0.9948132780082988\n",
      "Valid: 0.7900466562986003\n",
      "n_estimators = 25\n",
      "Train: 0.9968879668049793\n",
      "Valid: 0.7884914463452566\n",
      "n_estimators = 30\n",
      "Train: 0.9968879668049793\n",
      "Valid: 0.7884914463452566\n",
      "n_estimators = 35\n",
      "Train: 0.9974066390041494\n",
      "Valid: 0.7853810264385692\n",
      "n_estimators = 40\n",
      "Train: 0.9963692946058091\n",
      "Valid: 0.7869362363919129\n",
      "n_estimators = 45\n",
      "Train: 0.9984439834024896\n",
      "Valid: 0.7931570762052877\n",
      "n_estimators = 50\n",
      "Train: 0.9979253112033195\n",
      "Valid: 0.7947122861586314\n",
      "n_estimators = 55\n",
      "Train: 0.9989626556016598\n",
      "Valid: 0.7962674961119751\n",
      "n_estimators = 60\n",
      "Train: 0.9984439834024896\n",
      "Valid: 0.7962674961119751\n",
      "n_estimators = 65\n",
      "Train: 0.9989626556016598\n",
      "Valid: 0.7993779160186625\n",
      "n_estimators = 70\n",
      "Train: 0.9989626556016598\n",
      "Valid: 0.7962674961119751\n",
      "n_estimators = 75\n",
      "Train: 1.0\n",
      "Valid: 0.7978227060653188\n",
      "n_estimators = 80\n",
      "Train: 1.0\n",
      "Valid: 0.7993779160186625\n",
      "n_estimators = 85\n",
      "Train: 0.9994813278008299\n",
      "Valid: 0.7978227060653188\n",
      "n_estimators = 90\n",
      "Train: 0.9994813278008299\n",
      "Valid: 0.7978227060653188\n",
      "n_estimators = 95\n",
      "Train: 0.9994813278008299\n",
      "Valid: 0.7931570762052877\n",
      "n_estimators = 100\n",
      "Train: 1.0\n",
      "Valid: 0.7947122861586314\n"
     ]
    }
   ],
   "source": [
    "print('Random Forest')\n",
    "for estim in range(10, 101, 5):\n",
    "    model = RandomForestClassifier(n_estimators=estim, random_state=12345)\n",
    "    model.fit(features_train, target_train)\n",
    "    print('n_estimators =', estim)\n",
    "    print('Train:', model.score(features_train, target_train))\n",
    "    print('Valid:', model.score(features_valid, target_valid))\n"
   ]
  },
  {
   "cell_type": "markdown",
   "metadata": {},
   "source": [
    "### Logistic Regression"
   ]
  },
  {
   "cell_type": "code",
   "execution_count": 20,
   "metadata": {},
   "outputs": [
    {
     "name": "stdout",
     "output_type": "stream",
     "text": [
      "Logistic Regression\n",
      "Train: 0.7422199170124482\n",
      "Valid: 0.7293934681181959\n"
     ]
    }
   ],
   "source": [
    "print('Logistic Regression')\n",
    "model =  LogisticRegression(random_state=12345, solver='liblinear')\n",
    "model.fit(features_train, target_train)\n",
    "print('Train:', model.score(features_train, target_train))\n",
    "print('Valid:', model.score(features_valid, target_valid))"
   ]
  },
  {
   "cell_type": "markdown",
   "metadata": {},
   "source": [
    "## Findings"
   ]
  },
  {
   "cell_type": "markdown",
   "metadata": {},
   "source": [
    "- Decision Tree produced good results with not too much overfitting, however the scores of the validation set are higher using Random Forest\n",
    "- Although there was slight overfitting, Random Forest produced the highest validation set scores, all of which were over the given threshold of 75%. The peak was at n_estimators = 80 with train score: 1.0 and valid score: .799.\n",
    "- Logistic Regression does not work for this model. Neither the train or valid scores reach the 75% threshold."
   ]
  },
  {
   "cell_type": "markdown",
   "metadata": {},
   "source": [
    "## Testing the model"
   ]
  },
  {
   "cell_type": "code",
   "execution_count": 22,
   "metadata": {},
   "outputs": [],
   "source": [
    "features_full_train = train_valid.drop(['is_ultra'], axis=1)\n",
    "target_full_train = train_valid['is_ultra']"
   ]
  },
  {
   "cell_type": "code",
   "execution_count": 23,
   "metadata": {},
   "outputs": [
    {
     "data": {
      "text/plain": [
       "0.7713841368584758"
      ]
     },
     "execution_count": 23,
     "metadata": {},
     "output_type": "execute_result"
    }
   ],
   "source": [
    "model = RandomForestClassifier(random_state=12345, n_estimators=80)\n",
    "model.fit(features_full_train, target_full_train)\n",
    "model.score(features_test, target_test)"
   ]
  },
  {
   "cell_type": "markdown",
   "metadata": {},
   "source": [
    "goal achieved with >75% accuracy using Random Forest with n_estimators=80"
   ]
  },
  {
   "cell_type": "markdown",
   "metadata": {},
   "source": [
    "## Additional Task: Sanity Check"
   ]
  },
  {
   "cell_type": "code",
   "execution_count": 24,
   "metadata": {},
   "outputs": [
    {
     "data": {
      "text/plain": [
       "0    0.693528\n",
       "1    0.306472\n",
       "Name: is_ultra, dtype: float64"
      ]
     },
     "execution_count": 24,
     "metadata": {},
     "output_type": "execute_result"
    }
   ],
   "source": [
    "df['is_ultra'].value_counts()/df.shape[0]"
   ]
  },
  {
   "cell_type": "markdown",
   "metadata": {},
   "source": [
    "sanity check score of about 69% indicates the logitic regression hasn't learned much"
   ]
  },
  {
   "cell_type": "markdown",
   "metadata": {},
   "source": [
    "## Conclusion"
   ]
  },
  {
   "cell_type": "markdown",
   "metadata": {},
   "source": [
    "Out of the three models used, Random Classifier produced the best model with n_estimator = 80. When used on the test set, it produced a score of .771 or 77.1% accuracy which exceeds the goal of 75%. I recommend using this model to recommend plans to customers."
   ]
  },
  {
   "cell_type": "code",
   "execution_count": null,
   "metadata": {},
   "outputs": [],
   "source": []
  }
 ],
 "metadata": {
  "kernelspec": {
   "display_name": "Python 3 (ipykernel)",
   "language": "python",
   "name": "python3"
  },
  "language_info": {
   "codemirror_mode": {
    "name": "ipython",
    "version": 3
   },
   "file_extension": ".py",
   "mimetype": "text/x-python",
   "name": "python",
   "nbconvert_exporter": "python",
   "pygments_lexer": "ipython3",
   "version": "3.9.5"
  },
  "toc": {
   "base_numbering": 1,
   "nav_menu": {},
   "number_sections": true,
   "sideBar": true,
   "skip_h1_title": true,
   "title_cell": "Table of Contents",
   "title_sidebar": "Contents",
   "toc_cell": false,
   "toc_position": {},
   "toc_section_display": true,
   "toc_window_display": false
  }
 },
 "nbformat": 4,
 "nbformat_minor": 2
}
